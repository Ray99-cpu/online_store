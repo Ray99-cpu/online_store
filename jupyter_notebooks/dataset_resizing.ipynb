{
  "cells": [
    {
      "cell_type": "markdown",
      "metadata": {
        "id": "0aStgWSO0E0E"
      },
      "source": [
        "# **Resizing of Dataset**"
      ]
    },
    {
      "cell_type": "markdown",
      "metadata": {
        "id": "1eLEkw5O0ECa"
      },
      "source": [
        "## Objectives\n",
        "\n",
        "* The objective is to reduce the size of the dataset from 50K rows to 10K rows. This is to ensure that the computer can process the dataset size more easily.\n",
        "\n",
        "## Inputs\n",
        "\n",
        "* The dataset that will be imported is the e-commerce_transactions.csv dataset from the Kaggle website.\n",
        "\n",
        "## Outputs\n",
        "\n",
        "* The dataset will be reduced to 10K rows with which cleaning and modifications will take place.\n",
        "\n",
        "## Additional Comments\n",
        "\n",
        "* The remaining sections will describe the process in various stages.\n",
        "\n"
      ]
    },
    {
      "cell_type": "markdown",
      "metadata": {
        "id": "9uWZXH9LwoQg"
      },
      "source": [
        "---"
      ]
    },
    {
      "cell_type": "markdown",
      "metadata": {
        "id": "cqP-UeN-z3i2"
      },
      "source": [
        "# Change working directory"
      ]
    },
    {
      "cell_type": "markdown",
      "metadata": {},
      "source": [
        "* We are assuming you will store the notebooks in a subfolder, therefore when running the notebook in the editor, you will need to change the working directory"
      ]
    },
    {
      "cell_type": "markdown",
      "metadata": {
        "id": "aOGIGS-uz3i2"
      },
      "source": [
        "We need to change the working directory from its current folder to its parent folder\n",
        "* We access the current directory with os.getcwd()"
      ]
    },
    {
      "cell_type": "code",
      "execution_count": 1,
      "metadata": {
        "id": "wZfF_j-Bz3i4",
        "outputId": "66943449-1436-4c3d-85c7-b85f9f78349b"
      },
      "outputs": [
        {
          "data": {
            "text/plain": [
              "'c:\\\\Users\\\\rayaf\\\\OneDrive\\\\Documents\\\\global-store\\\\online_store\\\\jupyter_notebooks'"
            ]
          },
          "execution_count": 1,
          "metadata": {},
          "output_type": "execute_result"
        }
      ],
      "source": [
        "import os\n",
        "current_dir = os.getcwd()\n",
        "current_dir"
      ]
    },
    {
      "cell_type": "markdown",
      "metadata": {
        "id": "9MWW8E7lz3i7"
      },
      "source": [
        "We want to make the parent of the current directory the new current directory\n",
        "* os.path.dirname() gets the parent directory\n",
        "* os.chir() defines the new current directory"
      ]
    },
    {
      "cell_type": "code",
      "execution_count": 2,
      "metadata": {
        "id": "TwHsQRWjz3i9",
        "outputId": "86849db3-cd2f-4cc5-ebb8-2d0caafa1a2c"
      },
      "outputs": [
        {
          "name": "stdout",
          "output_type": "stream",
          "text": [
            "You set a new current directory\n"
          ]
        }
      ],
      "source": [
        "os.chdir(os.path.dirname(current_dir))\n",
        "print(\"You set a new current directory\")"
      ]
    },
    {
      "cell_type": "markdown",
      "metadata": {
        "id": "M_xPk_Ijz3i-"
      },
      "source": [
        "Confirm the new current directory"
      ]
    },
    {
      "cell_type": "code",
      "execution_count": 3,
      "metadata": {
        "id": "vz3S-_kjz3jA",
        "outputId": "00b79ae4-75d0-4a96-d193-ac9ef9847ea2"
      },
      "outputs": [
        {
          "data": {
            "text/plain": [
              "'c:\\\\Users\\\\rayaf\\\\OneDrive\\\\Documents\\\\global-store\\\\online_store'"
            ]
          },
          "execution_count": 3,
          "metadata": {},
          "output_type": "execute_result"
        }
      ],
      "source": [
        "current_dir = os.getcwd()\n",
        "current_dir"
      ]
    },
    {
      "cell_type": "code",
      "execution_count": null,
      "metadata": {},
      "outputs": [],
      "source": [
        "import pandas as pd # THe pandas library has been imported to resize the dataset"
      ]
    },
    {
      "cell_type": "markdown",
      "metadata": {
        "id": "-mavJ8DibrcQ"
      },
      "source": [
        "# Stage 1"
      ]
    },
    {
      "cell_type": "markdown",
      "metadata": {},
      "source": [
        "### Loading the dataset and checking the file size"
      ]
    },
    {
      "cell_type": "code",
      "execution_count": null,
      "metadata": {},
      "outputs": [
        {
          "data": {
            "text/html": [
              "<div>\n",
              "<style scoped>\n",
              "    .dataframe tbody tr th:only-of-type {\n",
              "        vertical-align: middle;\n",
              "    }\n",
              "\n",
              "    .dataframe tbody tr th {\n",
              "        vertical-align: top;\n",
              "    }\n",
              "\n",
              "    .dataframe thead th {\n",
              "        text-align: right;\n",
              "    }\n",
              "</style>\n",
              "<table border=\"1\" class=\"dataframe\">\n",
              "  <thead>\n",
              "    <tr style=\"text-align: right;\">\n",
              "      <th></th>\n",
              "      <th>Transaction_ID</th>\n",
              "      <th>User_Name</th>\n",
              "      <th>Age</th>\n",
              "      <th>Country</th>\n",
              "      <th>Product_Category</th>\n",
              "      <th>Purchase_Amount</th>\n",
              "      <th>Payment_Method</th>\n",
              "      <th>Transaction_Date</th>\n",
              "    </tr>\n",
              "  </thead>\n",
              "  <tbody>\n",
              "    <tr>\n",
              "      <th>0</th>\n",
              "      <td>1</td>\n",
              "      <td>Ava Hall</td>\n",
              "      <td>63</td>\n",
              "      <td>Mexico</td>\n",
              "      <td>Clothing</td>\n",
              "      <td>780.69</td>\n",
              "      <td>Debit Card</td>\n",
              "      <td>2023-04-14</td>\n",
              "    </tr>\n",
              "    <tr>\n",
              "      <th>1</th>\n",
              "      <td>2</td>\n",
              "      <td>Sophia Hall</td>\n",
              "      <td>59</td>\n",
              "      <td>India</td>\n",
              "      <td>Beauty</td>\n",
              "      <td>738.56</td>\n",
              "      <td>PayPal</td>\n",
              "      <td>2023-07-30</td>\n",
              "    </tr>\n",
              "    <tr>\n",
              "      <th>2</th>\n",
              "      <td>3</td>\n",
              "      <td>Elijah Thompson</td>\n",
              "      <td>26</td>\n",
              "      <td>France</td>\n",
              "      <td>Books</td>\n",
              "      <td>178.34</td>\n",
              "      <td>Credit Card</td>\n",
              "      <td>2023-09-17</td>\n",
              "    </tr>\n",
              "    <tr>\n",
              "      <th>3</th>\n",
              "      <td>4</td>\n",
              "      <td>Elijah White</td>\n",
              "      <td>43</td>\n",
              "      <td>Mexico</td>\n",
              "      <td>Sports</td>\n",
              "      <td>401.09</td>\n",
              "      <td>UPI</td>\n",
              "      <td>2023-06-21</td>\n",
              "    </tr>\n",
              "    <tr>\n",
              "      <th>4</th>\n",
              "      <td>5</td>\n",
              "      <td>Ava Harris</td>\n",
              "      <td>48</td>\n",
              "      <td>Germany</td>\n",
              "      <td>Beauty</td>\n",
              "      <td>594.83</td>\n",
              "      <td>Net Banking</td>\n",
              "      <td>2024-10-29</td>\n",
              "    </tr>\n",
              "  </tbody>\n",
              "</table>\n",
              "</div>"
            ],
            "text/plain": [
              "   Transaction_ID        User_Name  Age  Country Product_Category  \\\n",
              "0               1         Ava Hall   63   Mexico         Clothing   \n",
              "1               2      Sophia Hall   59    India           Beauty   \n",
              "2               3  Elijah Thompson   26   France            Books   \n",
              "3               4     Elijah White   43   Mexico           Sports   \n",
              "4               5       Ava Harris   48  Germany           Beauty   \n",
              "\n",
              "   Purchase_Amount Payment_Method Transaction_Date  \n",
              "0           780.69     Debit Card       2023-04-14  \n",
              "1           738.56         PayPal       2023-07-30  \n",
              "2           178.34    Credit Card       2023-09-17  \n",
              "3           401.09            UPI       2023-06-21  \n",
              "4           594.83    Net Banking       2024-10-29  "
            ]
          },
          "execution_count": 5,
          "metadata": {},
          "output_type": "execute_result"
        }
      ],
      "source": [
        "df = pd.read_csv('../online_store/data/raw_data/ecommerce_transactions.csv') # The dataset has been loaded into a pandas DataFrame\n",
        "df.head(5) # Display the first 5 rows of the dataset"
      ]
    },
    {
      "cell_type": "markdown",
      "metadata": {
        "id": "ZY3l0-AxO93d"
      },
      "source": [
        "---"
      ]
    },
    {
      "cell_type": "code",
      "execution_count": 7,
      "metadata": {},
      "outputs": [
        {
          "name": "stdout",
          "output_type": "stream",
          "text": [
            "The dataset contains 50000 rows.\n"
          ]
        }
      ],
      "source": [
        "new_df = len(df) # Get the number of rows in the dataset\n",
        "print(f\"The dataset contains {new_df} rows.\") # Print the number of rows in the dataset"
      ]
    },
    {
      "cell_type": "markdown",
      "metadata": {},
      "source": [
        "### As can be seen from above the dataset contains 50K rows."
      ]
    },
    {
      "cell_type": "markdown",
      "metadata": {
        "id": "uFQo3ycuO-v6"
      },
      "source": [
        "# Stage 2"
      ]
    },
    {
      "cell_type": "markdown",
      "metadata": {},
      "source": [
        "### Resizing the dataset and confirming file size"
      ]
    },
    {
      "cell_type": "code",
      "execution_count": 8,
      "metadata": {},
      "outputs": [
        {
          "name": "stdout",
          "output_type": "stream",
          "text": [
            "The resized dataset contains 10000 rows.\n"
          ]
        }
      ],
      "source": [
        "sized_df = df.sample(n=10000, random_state=42)\n",
        "print(f\"The resized dataset contains {len(sized_df)} rows.\") # Print the number of rows in the resized dataset\n"
      ]
    },
    {
      "cell_type": "markdown",
      "metadata": {},
      "source": [
        "### As can be seen from the output above the dataset now consists of 10K rows."
      ]
    },
    {
      "cell_type": "markdown",
      "metadata": {},
      "source": [
        "# Stage 3"
      ]
    },
    {
      "cell_type": "markdown",
      "metadata": {},
      "source": [
        "### Save file to cleaned_data folder"
      ]
    },
    {
      "cell_type": "code",
      "execution_count": null,
      "metadata": {},
      "outputs": [],
      "source": []
    }
  ],
  "metadata": {
    "accelerator": "GPU",
    "colab": {
      "name": "Data Practitioner Jupyter Notebook.ipynb",
      "provenance": [],
      "toc_visible": true
    },
    "kernelspec": {
      "display_name": "Python 3",
      "language": "python",
      "name": "python3"
    },
    "language_info": {
      "codemirror_mode": {
        "name": "ipython",
        "version": 3
      },
      "file_extension": ".py",
      "mimetype": "text/x-python",
      "name": "python",
      "nbconvert_exporter": "python",
      "pygments_lexer": "ipython3",
      "version": "3.12.8"
    },
    "orig_nbformat": 2
  },
  "nbformat": 4,
  "nbformat_minor": 2
}
