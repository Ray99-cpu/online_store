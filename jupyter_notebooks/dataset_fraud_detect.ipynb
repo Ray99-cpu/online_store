{
  "cells": [
    {
      "cell_type": "markdown",
      "metadata": {
        "id": "0aStgWSO0E0E"
      },
      "source": [
        "# **Dataset & Fraud Detection**"
      ]
    },
    {
      "cell_type": "markdown",
      "metadata": {
        "id": "1eLEkw5O0ECa"
      },
      "source": [
        "## Objectives\n",
        "\n",
        "* The objectives are to use AI tools to balance the dataset, generate data on where it is taking place, and produce visualisations.\n",
        "\n",
        "## Inputs\n",
        "\n",
        "* I will load in the ecommerce_transactions_cleaned dataset.\n",
        "\n",
        "## Outputs\n",
        "\n",
        "* A balanced dataset, data, and visualisations.\n",
        "\n",
        "## Additional Comments\n",
        "\n",
        "* Copilot will be used for this task to see how AI completes this task.\n",
        "\n"
      ]
    },
    {
      "cell_type": "markdown",
      "metadata": {
        "id": "9uWZXH9LwoQg"
      },
      "source": [
        "---"
      ]
    },
    {
      "cell_type": "markdown",
      "metadata": {
        "id": "cqP-UeN-z3i2"
      },
      "source": [
        "# Change working directory"
      ]
    },
    {
      "cell_type": "markdown",
      "metadata": {},
      "source": [
        "* We are assuming you will store the notebooks in a subfolder, therefore when running the notebook in the editor, you will need to change the working directory"
      ]
    },
    {
      "cell_type": "markdown",
      "metadata": {
        "id": "aOGIGS-uz3i2"
      },
      "source": [
        "We need to change the working directory from its current folder to its parent folder\n",
        "* We access the current directory with os.getcwd()"
      ]
    },
    {
      "cell_type": "code",
      "execution_count": 1,
      "metadata": {
        "id": "wZfF_j-Bz3i4",
        "outputId": "66943449-1436-4c3d-85c7-b85f9f78349b"
      },
      "outputs": [
        {
          "data": {
            "text/plain": [
              "'c:\\\\Users\\\\rayaf\\\\OneDrive\\\\Documents\\\\global-store\\\\online_store\\\\jupyter_notebooks'"
            ]
          },
          "execution_count": 1,
          "metadata": {},
          "output_type": "execute_result"
        }
      ],
      "source": [
        "import os\n",
        "current_dir = os.getcwd()\n",
        "current_dir"
      ]
    },
    {
      "cell_type": "markdown",
      "metadata": {
        "id": "9MWW8E7lz3i7"
      },
      "source": [
        "We want to make the parent of the current directory the new current directory\n",
        "* os.path.dirname() gets the parent directory\n",
        "* os.chir() defines the new current directory"
      ]
    },
    {
      "cell_type": "code",
      "execution_count": 2,
      "metadata": {
        "id": "TwHsQRWjz3i9",
        "outputId": "86849db3-cd2f-4cc5-ebb8-2d0caafa1a2c"
      },
      "outputs": [
        {
          "name": "stdout",
          "output_type": "stream",
          "text": [
            "You set a new current directory\n"
          ]
        }
      ],
      "source": [
        "os.chdir(os.path.dirname(current_dir))\n",
        "print(\"You set a new current directory\")"
      ]
    },
    {
      "cell_type": "markdown",
      "metadata": {
        "id": "M_xPk_Ijz3i-"
      },
      "source": [
        "Confirm the new current directory"
      ]
    },
    {
      "cell_type": "code",
      "execution_count": 3,
      "metadata": {
        "id": "vz3S-_kjz3jA",
        "outputId": "00b79ae4-75d0-4a96-d193-ac9ef9847ea2"
      },
      "outputs": [
        {
          "data": {
            "text/plain": [
              "'c:\\\\Users\\\\rayaf\\\\OneDrive\\\\Documents\\\\global-store\\\\online_store'"
            ]
          },
          "execution_count": 3,
          "metadata": {},
          "output_type": "execute_result"
        }
      ],
      "source": [
        "current_dir = os.getcwd()\n",
        "current_dir"
      ]
    },
    {
      "cell_type": "code",
      "execution_count": 4,
      "metadata": {},
      "outputs": [],
      "source": [
        "import pandas as pd"
      ]
    },
    {
      "cell_type": "markdown",
      "metadata": {
        "id": "-mavJ8DibrcQ"
      },
      "source": [
        "# Stage 1"
      ]
    },
    {
      "cell_type": "markdown",
      "metadata": {},
      "source": [
        "#### Loading the Dataset"
      ]
    },
    {
      "cell_type": "code",
      "execution_count": 5,
      "metadata": {},
      "outputs": [
        {
          "data": {
            "text/html": [
              "<div>\n",
              "<style scoped>\n",
              "    .dataframe tbody tr th:only-of-type {\n",
              "        vertical-align: middle;\n",
              "    }\n",
              "\n",
              "    .dataframe tbody tr th {\n",
              "        vertical-align: top;\n",
              "    }\n",
              "\n",
              "    .dataframe thead th {\n",
              "        text-align: right;\n",
              "    }\n",
              "</style>\n",
              "<table border=\"1\" class=\"dataframe\">\n",
              "  <thead>\n",
              "    <tr style=\"text-align: right;\">\n",
              "      <th></th>\n",
              "      <th>Transaction_ID</th>\n",
              "      <th>User_Name</th>\n",
              "      <th>Age</th>\n",
              "      <th>Country</th>\n",
              "      <th>Product_Category</th>\n",
              "      <th>Purchase_Amount</th>\n",
              "      <th>Payment_Method</th>\n",
              "      <th>Transaction_Date</th>\n",
              "      <th>Year</th>\n",
              "      <th>Month</th>\n",
              "      <th>Day</th>\n",
              "      <th>Product_Category_Code</th>\n",
              "      <th>Segment</th>\n",
              "    </tr>\n",
              "  </thead>\n",
              "  <tbody>\n",
              "    <tr>\n",
              "      <th>0</th>\n",
              "      <td>33554</td>\n",
              "      <td>Isabella Lewis</td>\n",
              "      <td>24</td>\n",
              "      <td>Japan</td>\n",
              "      <td>Toys</td>\n",
              "      <td>579.51</td>\n",
              "      <td>Cash on Delivery</td>\n",
              "      <td>2024-01-16</td>\n",
              "      <td>2024</td>\n",
              "      <td>1</td>\n",
              "      <td>16</td>\n",
              "      <td>7</td>\n",
              "      <td>1</td>\n",
              "    </tr>\n",
              "    <tr>\n",
              "      <th>1</th>\n",
              "      <td>9428</td>\n",
              "      <td>Elijah Rodriguez</td>\n",
              "      <td>52</td>\n",
              "      <td>Germany</td>\n",
              "      <td>Electronics</td>\n",
              "      <td>78.18</td>\n",
              "      <td>PayPal</td>\n",
              "      <td>2023-04-19</td>\n",
              "      <td>2023</td>\n",
              "      <td>4</td>\n",
              "      <td>19</td>\n",
              "      <td>3</td>\n",
              "      <td>2</td>\n",
              "    </tr>\n",
              "    <tr>\n",
              "      <th>2</th>\n",
              "      <td>200</td>\n",
              "      <td>Ava Hall</td>\n",
              "      <td>62</td>\n",
              "      <td>UK</td>\n",
              "      <td>Toys</td>\n",
              "      <td>713.08</td>\n",
              "      <td>Debit Card</td>\n",
              "      <td>2024-03-05</td>\n",
              "      <td>2024</td>\n",
              "      <td>3</td>\n",
              "      <td>5</td>\n",
              "      <td>7</td>\n",
              "      <td>0</td>\n",
              "    </tr>\n",
              "    <tr>\n",
              "      <th>3</th>\n",
              "      <td>12448</td>\n",
              "      <td>Ava Allen</td>\n",
              "      <td>63</td>\n",
              "      <td>Brazil</td>\n",
              "      <td>Grocery</td>\n",
              "      <td>474.14</td>\n",
              "      <td>Credit Card</td>\n",
              "      <td>2024-12-01</td>\n",
              "      <td>2024</td>\n",
              "      <td>12</td>\n",
              "      <td>1</td>\n",
              "      <td>4</td>\n",
              "      <td>2</td>\n",
              "    </tr>\n",
              "    <tr>\n",
              "      <th>4</th>\n",
              "      <td>39490</td>\n",
              "      <td>Emma Lewis</td>\n",
              "      <td>52</td>\n",
              "      <td>USA</td>\n",
              "      <td>Home &amp; Kitchen</td>\n",
              "      <td>266.15</td>\n",
              "      <td>Debit Card</td>\n",
              "      <td>2024-01-19</td>\n",
              "      <td>2024</td>\n",
              "      <td>1</td>\n",
              "      <td>19</td>\n",
              "      <td>5</td>\n",
              "      <td>2</td>\n",
              "    </tr>\n",
              "  </tbody>\n",
              "</table>\n",
              "</div>"
            ],
            "text/plain": [
              "   Transaction_ID         User_Name  Age  Country Product_Category  \\\n",
              "0           33554    Isabella Lewis   24    Japan             Toys   \n",
              "1            9428  Elijah Rodriguez   52  Germany      Electronics   \n",
              "2             200          Ava Hall   62       UK             Toys   \n",
              "3           12448         Ava Allen   63   Brazil          Grocery   \n",
              "4           39490        Emma Lewis   52      USA   Home & Kitchen   \n",
              "\n",
              "   Purchase_Amount    Payment_Method Transaction_Date  Year  Month  Day  \\\n",
              "0           579.51  Cash on Delivery       2024-01-16  2024      1   16   \n",
              "1            78.18            PayPal       2023-04-19  2023      4   19   \n",
              "2           713.08        Debit Card       2024-03-05  2024      3    5   \n",
              "3           474.14       Credit Card       2024-12-01  2024     12    1   \n",
              "4           266.15        Debit Card       2024-01-19  2024      1   19   \n",
              "\n",
              "   Product_Category_Code  Segment  \n",
              "0                      7        1  \n",
              "1                      3        2  \n",
              "2                      7        0  \n",
              "3                      4        2  \n",
              "4                      5        2  "
            ]
          },
          "execution_count": 5,
          "metadata": {},
          "output_type": "execute_result"
        }
      ],
      "source": [
        "fraud_df = pd.read_csv('../online_store/data/balanced_data/ecommerce_transactions_cleaned.csv')\n",
        "fraud_df.head()"
      ]
    },
    {
      "cell_type": "markdown",
      "metadata": {
        "id": "uFQo3ycuO-v6"
      },
      "source": [
        "# Stage 2"
      ]
    },
    {
      "cell_type": "markdown",
      "metadata": {},
      "source": [
        "#### Balancing the Dataset"
      ]
    },
    {
      "cell_type": "code",
      "execution_count": 6,
      "metadata": {},
      "outputs": [
        {
          "name": "stdout",
          "output_type": "stream",
          "text": [
            "Segment\n",
            "3    2612\n",
            "1    2498\n",
            "2    2469\n",
            "0    2421\n",
            "Name: count, dtype: int64\n",
            "Segment\n",
            "0    2612\n",
            "1    2612\n",
            "3    2612\n",
            "2    2612\n",
            "Name: count, dtype: int64\n"
          ]
        }
      ],
      "source": [
        "from sklearn.utils import resample\n",
        "\n",
        "# Check class distribution before balancing\n",
        "print(fraud_df['Segment'].value_counts())\n",
        "\n",
        "# Perform random oversampling to balance the classes\n",
        "\n",
        "# Separate majority and minority classes\n",
        "majority_class = fraud_df['Segment'].value_counts().idxmax()\n",
        "dfs = []\n",
        "max_count = fraud_df['Segment'].value_counts().max()\n",
        "\n",
        "for segment in fraud_df['Segment'].unique():\n",
        "    df_segment = fraud_df[fraud_df['Segment'] == segment]\n",
        "    if len(df_segment) < max_count:\n",
        "        df_segment_balanced = resample(df_segment, \n",
        "                                       replace=True, \n",
        "                                       n_samples=max_count, \n",
        "                                       random_state=42)\n",
        "    else:\n",
        "        df_segment_balanced = df_segment\n",
        "    dfs.append(df_segment_balanced)\n",
        "\n",
        "balanced_fraud_df = pd.concat(dfs).sample(frac=1, random_state=42).reset_index(drop=True)\n",
        "\n",
        "# Check class distribution after balancing\n",
        "print(balanced_fraud_df['Segment'].value_counts())"
      ]
    },
    {
      "cell_type": "markdown",
      "metadata": {},
      "source": [
        "# Stage 3"
      ]
    },
    {
      "cell_type": "markdown",
      "metadata": {},
      "source": [
        "Detecting Fraud "
      ]
    },
    {
      "cell_type": "code",
      "execution_count": null,
      "metadata": {},
      "outputs": [],
      "source": []
    },
    {
      "cell_type": "markdown",
      "metadata": {},
      "source": [
        "# Stage 4"
      ]
    },
    {
      "cell_type": "markdown",
      "metadata": {},
      "source": [
        "#### Fraud Visualisations"
      ]
    }
  ],
  "metadata": {
    "accelerator": "GPU",
    "colab": {
      "name": "Data Practitioner Jupyter Notebook.ipynb",
      "provenance": [],
      "toc_visible": true
    },
    "kernelspec": {
      "display_name": "Python 3",
      "language": "python",
      "name": "python3"
    },
    "language_info": {
      "codemirror_mode": {
        "name": "ipython",
        "version": 3
      },
      "file_extension": ".py",
      "mimetype": "text/x-python",
      "name": "python",
      "nbconvert_exporter": "python",
      "pygments_lexer": "ipython3",
      "version": "3.12.8"
    },
    "orig_nbformat": 2
  },
  "nbformat": 4,
  "nbformat_minor": 2
}
