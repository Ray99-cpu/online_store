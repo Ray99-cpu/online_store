{
  "cells": [
    {
      "cell_type": "markdown",
      "metadata": {
        "id": "0aStgWSO0E0E"
      },
      "source": [
        "# **Hypotheses**"
      ]
    },
    {
      "cell_type": "markdown",
      "metadata": {
        "id": "1eLEkw5O0ECa"
      },
      "source": [
        "### Objectives\n",
        "\n",
        "* The objective is to understand the DataFrame in terms of its data regarding the mean,median, and standard deviation. These 3 aspects will give an understanding as to the middle value, average value, and deviation away from the mean or average value. Therefore, the spread of the data is in the dataset. If the standard deviation low then the data is likely to be clusterd, if it is high then there is likely to wide variability.\n",
        "\n",
        "* The hypotheses used are based on assumptions and these 3 will be evaluated.\n",
        "\n",
        "* Probability is concerned with number of outcomes and the likelihood of them happening.\n",
        "\n",
        "#### Inputs\n",
        "\n",
        "* I will use the ecommerce_transactions_cleaned.csv dataset.\n",
        "\n",
        "#### Outputs\n",
        "\n",
        "* The outputs will be from Chi, Welch's t-tests, and box plot visualisations.\n",
        "\n",
        "#### Additional Comments\n",
        "\n",
        "* These principles are important and form the foundation of data analysis because they provide the data analyst with insights, compare distributions and consistency, enable probablistic reasoning \n",
        "\n"
      ]
    },
    {
      "cell_type": "markdown",
      "metadata": {
        "id": "9uWZXH9LwoQg"
      },
      "source": [
        "---"
      ]
    },
    {
      "cell_type": "markdown",
      "metadata": {
        "id": "cqP-UeN-z3i2"
      },
      "source": [
        "# Change working directory"
      ]
    },
    {
      "cell_type": "markdown",
      "metadata": {},
      "source": [
        "* We are assuming you will store the notebooks in a subfolder, therefore when running the notebook in the editor, you will need to change the working directory"
      ]
    },
    {
      "cell_type": "markdown",
      "metadata": {
        "id": "aOGIGS-uz3i2"
      },
      "source": [
        "We need to change the working directory from its current folder to its parent folder\n",
        "* We access the current directory with os.getcwd()"
      ]
    },
    {
      "cell_type": "code",
      "execution_count": 1,
      "metadata": {
        "id": "wZfF_j-Bz3i4",
        "outputId": "66943449-1436-4c3d-85c7-b85f9f78349b"
      },
      "outputs": [
        {
          "data": {
            "text/plain": [
              "'c:\\\\Users\\\\rayaf\\\\OneDrive\\\\Documents\\\\global-store\\\\online_store\\\\jupyter_notebooks'"
            ]
          },
          "execution_count": 1,
          "metadata": {},
          "output_type": "execute_result"
        }
      ],
      "source": [
        "import os\n",
        "current_dir = os.getcwd()\n",
        "current_dir"
      ]
    },
    {
      "cell_type": "markdown",
      "metadata": {
        "id": "9MWW8E7lz3i7"
      },
      "source": [
        "We want to make the parent of the current directory the new current directory\n",
        "* os.path.dirname() gets the parent directory\n",
        "* os.chir() defines the new current directory"
      ]
    },
    {
      "cell_type": "code",
      "execution_count": 2,
      "metadata": {
        "id": "TwHsQRWjz3i9",
        "outputId": "86849db3-cd2f-4cc5-ebb8-2d0caafa1a2c"
      },
      "outputs": [
        {
          "name": "stdout",
          "output_type": "stream",
          "text": [
            "You set a new current directory\n"
          ]
        }
      ],
      "source": [
        "os.chdir(os.path.dirname(current_dir))\n",
        "print(\"You set a new current directory\")"
      ]
    },
    {
      "cell_type": "markdown",
      "metadata": {
        "id": "M_xPk_Ijz3i-"
      },
      "source": [
        "Confirm the new current directory"
      ]
    },
    {
      "cell_type": "code",
      "execution_count": 3,
      "metadata": {
        "id": "vz3S-_kjz3jA",
        "outputId": "00b79ae4-75d0-4a96-d193-ac9ef9847ea2"
      },
      "outputs": [
        {
          "data": {
            "text/plain": [
              "'c:\\\\Users\\\\rayaf\\\\OneDrive\\\\Documents\\\\global-store\\\\online_store'"
            ]
          },
          "execution_count": 3,
          "metadata": {},
          "output_type": "execute_result"
        }
      ],
      "source": [
        "current_dir = os.getcwd()\n",
        "current_dir"
      ]
    },
    {
      "cell_type": "code",
      "execution_count": 4,
      "metadata": {},
      "outputs": [],
      "source": [
        "import pandas as pd\n",
        "import matplotlib.pyplot as plt\n",
        "import seaborn as sns\n",
        "from scipy.stats import ttest_ind\n",
        "\n"
      ]
    },
    {
      "cell_type": "code",
      "execution_count": 5,
      "metadata": {},
      "outputs": [
        {
          "data": {
            "text/html": [
              "<div>\n",
              "<style scoped>\n",
              "    .dataframe tbody tr th:only-of-type {\n",
              "        vertical-align: middle;\n",
              "    }\n",
              "\n",
              "    .dataframe tbody tr th {\n",
              "        vertical-align: top;\n",
              "    }\n",
              "\n",
              "    .dataframe thead th {\n",
              "        text-align: right;\n",
              "    }\n",
              "</style>\n",
              "<table border=\"1\" class=\"dataframe\">\n",
              "  <thead>\n",
              "    <tr style=\"text-align: right;\">\n",
              "      <th></th>\n",
              "      <th>Transaction_ID</th>\n",
              "      <th>User_Name</th>\n",
              "      <th>Age</th>\n",
              "      <th>Country</th>\n",
              "      <th>Product_Category</th>\n",
              "      <th>Purchase_Amount</th>\n",
              "      <th>Payment_Method</th>\n",
              "      <th>Transaction_Date</th>\n",
              "      <th>Year</th>\n",
              "      <th>Month</th>\n",
              "      <th>Day</th>\n",
              "    </tr>\n",
              "  </thead>\n",
              "  <tbody>\n",
              "    <tr>\n",
              "      <th>0</th>\n",
              "      <td>33554</td>\n",
              "      <td>Isabella Lewis</td>\n",
              "      <td>24</td>\n",
              "      <td>Japan</td>\n",
              "      <td>Toys</td>\n",
              "      <td>579.51</td>\n",
              "      <td>Cash on Delivery</td>\n",
              "      <td>2024-01-16</td>\n",
              "      <td>2024</td>\n",
              "      <td>1</td>\n",
              "      <td>16</td>\n",
              "    </tr>\n",
              "    <tr>\n",
              "      <th>1</th>\n",
              "      <td>9428</td>\n",
              "      <td>Elijah Rodriguez</td>\n",
              "      <td>52</td>\n",
              "      <td>Germany</td>\n",
              "      <td>Electronics</td>\n",
              "      <td>78.18</td>\n",
              "      <td>PayPal</td>\n",
              "      <td>2023-04-19</td>\n",
              "      <td>2023</td>\n",
              "      <td>4</td>\n",
              "      <td>19</td>\n",
              "    </tr>\n",
              "    <tr>\n",
              "      <th>2</th>\n",
              "      <td>200</td>\n",
              "      <td>Ava Hall</td>\n",
              "      <td>62</td>\n",
              "      <td>UK</td>\n",
              "      <td>Toys</td>\n",
              "      <td>713.08</td>\n",
              "      <td>Debit Card</td>\n",
              "      <td>2024-03-05</td>\n",
              "      <td>2024</td>\n",
              "      <td>3</td>\n",
              "      <td>5</td>\n",
              "    </tr>\n",
              "    <tr>\n",
              "      <th>3</th>\n",
              "      <td>12448</td>\n",
              "      <td>Ava Allen</td>\n",
              "      <td>63</td>\n",
              "      <td>Brazil</td>\n",
              "      <td>Grocery</td>\n",
              "      <td>474.14</td>\n",
              "      <td>Credit Card</td>\n",
              "      <td>2024-12-01</td>\n",
              "      <td>2024</td>\n",
              "      <td>12</td>\n",
              "      <td>1</td>\n",
              "    </tr>\n",
              "    <tr>\n",
              "      <th>4</th>\n",
              "      <td>39490</td>\n",
              "      <td>Emma Lewis</td>\n",
              "      <td>52</td>\n",
              "      <td>USA</td>\n",
              "      <td>Home &amp; Kitchen</td>\n",
              "      <td>266.15</td>\n",
              "      <td>Debit Card</td>\n",
              "      <td>2024-01-19</td>\n",
              "      <td>2024</td>\n",
              "      <td>1</td>\n",
              "      <td>19</td>\n",
              "    </tr>\n",
              "  </tbody>\n",
              "</table>\n",
              "</div>"
            ],
            "text/plain": [
              "   Transaction_ID         User_Name  Age  Country Product_Category  \\\n",
              "0           33554    Isabella Lewis   24    Japan             Toys   \n",
              "1            9428  Elijah Rodriguez   52  Germany      Electronics   \n",
              "2             200          Ava Hall   62       UK             Toys   \n",
              "3           12448         Ava Allen   63   Brazil          Grocery   \n",
              "4           39490        Emma Lewis   52      USA   Home & Kitchen   \n",
              "\n",
              "   Purchase_Amount    Payment_Method Transaction_Date  Year  Month  Day  \n",
              "0           579.51  Cash on Delivery       2024-01-16  2024      1   16  \n",
              "1            78.18            PayPal       2023-04-19  2023      4   19  \n",
              "2           713.08        Debit Card       2024-03-05  2024      3    5  \n",
              "3           474.14       Credit Card       2024-12-01  2024     12    1  \n",
              "4           266.15        Debit Card       2024-01-19  2024      1   19  "
            ]
          },
          "execution_count": 5,
          "metadata": {},
          "output_type": "execute_result"
        }
      ],
      "source": [
        "hypoth_df = pd.read_csv('../online_store/data/cleaned_data/ecommerce_transactions_cleaned.csv') # Load the cleaned dataset\n",
        "hypoth_df.head() # Display the first few rows of the dataset"
      ]
    },
    {
      "cell_type": "markdown",
      "metadata": {
        "id": "-mavJ8DibrcQ"
      },
      "source": [
        "##### Hypotheses 1"
      ]
    },
    {
      "cell_type": "markdown",
      "metadata": {},
      "source": [
        "* Is the total purchase amount higher between March and August compared to November in the USA?\n",
        "\n",
        "H₀ (null): Total purchase amount from March–August in the USA is equal to or less than that in November.\n",
        "\n",
        "H₁ (alt): Total purchase amount from March–August in the USA is greater than in November.\n",
        "\n"
      ]
    },
    {
      "cell_type": "code",
      "execution_count": 6,
      "metadata": {},
      "outputs": [
        {
          "name": "stdout",
          "output_type": "stream",
          "text": [
            "T-statistic: -0.016\n",
            "P-value: 0.5063\n",
            "Not statistically significant: No evidence that March–August is higher than November.\n"
          ]
        }
      ],
      "source": [
        "hypoth_df['Transaction_Date'] = pd.to_datetime(hypoth_df['Transaction_Date'])\n",
        "\n",
        "hypoth_df['Month'] = hypoth_df['Transaction_Date'].dt.month\n",
        "\n",
        "# Filter for USA only\n",
        "df_usa = hypoth_df[hypoth_df['Country'] == 'USA']\n",
        "\n",
        "# Group A: March to August\n",
        "group_a = df_usa[df_usa['Month'].between(3, 8)]['Purchase_Amount']\n",
        "\n",
        "# Group B: November\n",
        "group_b = df_usa[df_usa['Month'] == 11]['Purchase_Amount']\n",
        "\n",
        "# Run one-tailed t-test (greater: is A > B?)\n",
        "t_stat, p_val = ttest_ind(group_a, group_b, alternative='greater')\n",
        "\n",
        "# Print results\n",
        "print(f\"T-statistic: {t_stat:.3f}\")\n",
        "print(f\"P-value: {p_val:.4f}\")\n",
        "\n",
        "if p_val < 0.05:\n",
        "    print(\" Statistically significant: March–August purchase amounts are higher than November.\")\n",
        "else:\n",
        "    print(\"Not statistically significant: No evidence that March–August is higher than November.\")\n"
      ]
    },
    {
      "cell_type": "markdown",
      "metadata": {},
      "source": [
        "#### The output from the test shows that there is no real difference between the time periods, so trade is consistent for this business."
      ]
    },
    {
      "cell_type": "code",
      "execution_count": 7,
      "metadata": {},
      "outputs": [
        {
          "name": "stderr",
          "output_type": "stream",
          "text": [
            "C:\\Users\\rayaf\\AppData\\Local\\Temp\\ipykernel_12792\\1161248846.py:1: MatplotlibDeprecationWarning: The 'labels' parameter of boxplot() has been renamed 'tick_labels' since Matplotlib 3.9; support for the old name will be dropped in 3.11.\n",
            "  plt.boxplot([group_a, group_b], labels=['Mar–Aug', 'Nov'], patch_artist=True,\n"
          ]
        },
        {
          "data": {
            "image/png": "[encoded data removed]",
            "text/plain": [
              "<Figure size 640x480 with 1 Axes>"
            ]
          },
          "metadata": {},
          "output_type": "display_data"
        }
      ],
      "source": [
        "plt.boxplot([group_a, group_b], labels=['Mar–Aug', 'Nov'], patch_artist=True,\n",
        "            boxprops=dict(facecolor='skyblue'), medianprops=dict(color='red'))\n",
        "\n",
        "plt.ylabel(\"Purchase Amount\")\n",
        "plt.title(\"Purchase Amounts: Mar–Aug vs. Nov (USA)\")\n",
        "plt.grid(True, axis='y', linestyle='--', alpha=0.6)\n",
        "plt.show()\n",
        "# Hypothesis: The Sports category generates more sales than the Home & Kitchen category."
      ]
    },
    {
      "cell_type": "markdown",
      "metadata": {},
      "source": [
        "#### The box plot above further underlines this and the whiskers length are about the same."
      ]
    },
    {
      "cell_type": "markdown",
      "metadata": {
        "id": "uFQo3ycuO-v6"
      },
      "source": [
        "##### Hypotheses 2"
      ]
    },
    {
      "cell_type": "markdown",
      "metadata": {},
      "source": [
        "\n",
        "* Are Credit Card payments used significantly more than COD by customers?\n",
        "\n",
        "\n",
        "H₀ (null): Payment methods are used equally — no preference observed.\n",
        "\n",
        "H₁ (alt): Credit Card payments are used more frequently than COD.\n"
      ]
    },
    {
      "cell_type": "code",
      "execution_count": null,
      "metadata": {},
      "outputs": [],
      "source": []
    },
    {
      "cell_type": "markdown",
      "metadata": {},
      "source": [
        "##### Hypotheses 3"
      ]
    },
    {
      "cell_type": "markdown",
      "metadata": {},
      "source": [
        "* The Sports category generates more sales than the Home & Kitchen category.\n",
        "\n",
        "Hypothesis:\n",
        "Null hypothesis (H0): Mean sales in Sports ≤ Mean sales in Home & Kitchen\n",
        "\n",
        "Alternative hypothesis (H1): Mean sales in Sports > Mean sales in Home & Kitchen\n"
      ]
    },
    {
      "cell_type": "code",
      "execution_count": null,
      "metadata": {},
      "outputs": [],
      "source": []
    }
  ],
  "metadata": {
    "accelerator": "GPU",
    "colab": {
      "name": "Data Practitioner Jupyter Notebook.ipynb",
      "provenance": [],
      "toc_visible": true
    },
    "kernelspec": {
      "display_name": "Python 3",
      "language": "python",
      "name": "python3"
    },
    "language_info": {
      "codemirror_mode": {
        "name": "ipython",
        "version": 3
      },
      "file_extension": ".py",
      "mimetype": "text/x-python",
      "name": "python",
      "nbconvert_exporter": "python",
      "pygments_lexer": "ipython3",
      "version": "3.12.8"
    },
    "orig_nbformat": 2
  },
  "nbformat": 4,
  "nbformat_minor": 2
}
