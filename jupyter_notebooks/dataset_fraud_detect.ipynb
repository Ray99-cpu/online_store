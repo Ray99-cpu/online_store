{
  "cells": [
    {
      "cell_type": "markdown",
      "metadata": {
        "id": "0aStgWSO0E0E"
      },
      "source": [
        "# **Dataset & Fraud Detection**"
      ]
    },
    {
      "cell_type": "markdown",
      "metadata": {
        "id": "1eLEkw5O0ECa"
      },
      "source": [
        "## Objectives\n",
        "\n",
        "* The objectives are to use AI tools to balance the dataset, generate data on where it is taking place, and produce visualisations.\n",
        "\n",
        "## Inputs\n",
        "\n",
        "* I will load in the ecommerce_transactions_cleaned dataset.\n",
        "\n",
        "## Outputs\n",
        "\n",
        "* A balanced dataset, data, and visualisations.\n",
        "\n",
        "## Additional Comments\n",
        "\n",
        "* Copilot will be used for this task to see how AI completes this task.\n",
        "\n"
      ]
    },
    {
      "cell_type": "markdown",
      "metadata": {
        "id": "9uWZXH9LwoQg"
      },
      "source": [
        "---"
      ]
    },
    {
      "cell_type": "markdown",
      "metadata": {
        "id": "cqP-UeN-z3i2"
      },
      "source": [
        "# Change working directory"
      ]
    },
    {
      "cell_type": "markdown",
      "metadata": {},
      "source": [
        "* We are assuming you will store the notebooks in a subfolder, therefore when running the notebook in the editor, you will need to change the working directory"
      ]
    },
    {
      "cell_type": "markdown",
      "metadata": {
        "id": "aOGIGS-uz3i2"
      },
      "source": [
        "We need to change the working directory from its current folder to its parent folder\n",
        "* We access the current directory with os.getcwd()"
      ]
    },
    {
      "cell_type": "code",
      "execution_count": 1,
      "metadata": {
        "id": "wZfF_j-Bz3i4",
        "outputId": "66943449-1436-4c3d-85c7-b85f9f78349b"
      },
      "outputs": [
        {
          "data": {
            "text/plain": [
              "'c:\\\\Users\\\\rayaf\\\\OneDrive\\\\Documents\\\\global-store\\\\online_store\\\\jupyter_notebooks'"
            ]
          },
          "execution_count": 1,
          "metadata": {},
          "output_type": "execute_result"
        }
      ],
      "source": [
        "import os\n",
        "current_dir = os.getcwd()\n",
        "current_dir"
      ]
    },
    {
      "cell_type": "markdown",
      "metadata": {
        "id": "9MWW8E7lz3i7"
      },
      "source": [
        "We want to make the parent of the current directory the new current directory\n",
        "* os.path.dirname() gets the parent directory\n",
        "* os.chir() defines the new current directory"
      ]
    },
    {
      "cell_type": "code",
      "execution_count": 2,
      "metadata": {
        "id": "TwHsQRWjz3i9",
        "outputId": "86849db3-cd2f-4cc5-ebb8-2d0caafa1a2c"
      },
      "outputs": [
        {
          "name": "stdout",
          "output_type": "stream",
          "text": [
            "You set a new current directory\n"
          ]
        }
      ],
      "source": [
        "os.chdir(os.path.dirname(current_dir))\n",
        "print(\"You set a new current directory\")"
      ]
    },
    {
      "cell_type": "markdown",
      "metadata": {
        "id": "M_xPk_Ijz3i-"
      },
      "source": [
        "Confirm the new current directory"
      ]
    },
    {
      "cell_type": "code",
      "execution_count": 3,
      "metadata": {
        "id": "vz3S-_kjz3jA",
        "outputId": "00b79ae4-75d0-4a96-d193-ac9ef9847ea2"
      },
      "outputs": [
        {
          "data": {
            "text/plain": [
              "'c:\\\\Users\\\\rayaf\\\\OneDrive\\\\Documents\\\\global-store\\\\online_store'"
            ]
          },
          "execution_count": 3,
          "metadata": {},
          "output_type": "execute_result"
        }
      ],
      "source": [
        "current_dir = os.getcwd()\n",
        "current_dir"
      ]
    },
    {
      "cell_type": "code",
      "execution_count": 4,
      "metadata": {},
      "outputs": [],
      "source": [
        "import pandas as pd"
      ]
    },
    {
      "cell_type": "markdown",
      "metadata": {
        "id": "-mavJ8DibrcQ"
      },
      "source": [
        "# Stage 1"
      ]
    },
    {
      "cell_type": "markdown",
      "metadata": {},
      "source": [
        "#### Loading the Dataset"
      ]
    },
    {
      "cell_type": "code",
      "execution_count": 5,
      "metadata": {},
      "outputs": [
        {
          "data": {
            "text/html": [
              "<div>\n",
              "<style scoped>\n",
              "    .dataframe tbody tr th:only-of-type {\n",
              "        vertical-align: middle;\n",
              "    }\n",
              "\n",
              "    .dataframe tbody tr th {\n",
              "        vertical-align: top;\n",
              "    }\n",
              "\n",
              "    .dataframe thead th {\n",
              "        text-align: right;\n",
              "    }\n",
              "</style>\n",
              "<table border=\"1\" class=\"dataframe\">\n",
              "  <thead>\n",
              "    <tr style=\"text-align: right;\">\n",
              "      <th></th>\n",
              "      <th>Transaction_ID</th>\n",
              "      <th>User_Name</th>\n",
              "      <th>Age</th>\n",
              "      <th>Country</th>\n",
              "      <th>Product_Category</th>\n",
              "      <th>Purchase_Amount</th>\n",
              "      <th>Payment_Method</th>\n",
              "      <th>Transaction_Date</th>\n",
              "      <th>Year</th>\n",
              "      <th>Month</th>\n",
              "      <th>Day</th>\n",
              "      <th>Product_Category_Code</th>\n",
              "      <th>Segment</th>\n",
              "    </tr>\n",
              "  </thead>\n",
              "  <tbody>\n",
              "    <tr>\n",
              "      <th>0</th>\n",
              "      <td>33554</td>\n",
              "      <td>Isabella Lewis</td>\n",
              "      <td>24</td>\n",
              "      <td>Japan</td>\n",
              "      <td>Toys</td>\n",
              "      <td>579.51</td>\n",
              "      <td>Cash on Delivery</td>\n",
              "      <td>2024-01-16</td>\n",
              "      <td>2024</td>\n",
              "      <td>1</td>\n",
              "      <td>16</td>\n",
              "      <td>7</td>\n",
              "      <td>1</td>\n",
              "    </tr>\n",
              "    <tr>\n",
              "      <th>1</th>\n",
              "      <td>9428</td>\n",
              "      <td>Elijah Rodriguez</td>\n",
              "      <td>52</td>\n",
              "      <td>Germany</td>\n",
              "      <td>Electronics</td>\n",
              "      <td>78.18</td>\n",
              "      <td>PayPal</td>\n",
              "      <td>2023-04-19</td>\n",
              "      <td>2023</td>\n",
              "      <td>4</td>\n",
              "      <td>19</td>\n",
              "      <td>3</td>\n",
              "      <td>2</td>\n",
              "    </tr>\n",
              "    <tr>\n",
              "      <th>2</th>\n",
              "      <td>200</td>\n",
              "      <td>Ava Hall</td>\n",
              "      <td>62</td>\n",
              "      <td>UK</td>\n",
              "      <td>Toys</td>\n",
              "      <td>713.08</td>\n",
              "      <td>Debit Card</td>\n",
              "      <td>2024-03-05</td>\n",
              "      <td>2024</td>\n",
              "      <td>3</td>\n",
              "      <td>5</td>\n",
              "      <td>7</td>\n",
              "      <td>0</td>\n",
              "    </tr>\n",
              "    <tr>\n",
              "      <th>3</th>\n",
              "      <td>12448</td>\n",
              "      <td>Ava Allen</td>\n",
              "      <td>63</td>\n",
              "      <td>Brazil</td>\n",
              "      <td>Grocery</td>\n",
              "      <td>474.14</td>\n",
              "      <td>Credit Card</td>\n",
              "      <td>2024-12-01</td>\n",
              "      <td>2024</td>\n",
              "      <td>12</td>\n",
              "      <td>1</td>\n",
              "      <td>4</td>\n",
              "      <td>2</td>\n",
              "    </tr>\n",
              "    <tr>\n",
              "      <th>4</th>\n",
              "      <td>39490</td>\n",
              "      <td>Emma Lewis</td>\n",
              "      <td>52</td>\n",
              "      <td>USA</td>\n",
              "      <td>Home &amp; Kitchen</td>\n",
              "      <td>266.15</td>\n",
              "      <td>Debit Card</td>\n",
              "      <td>2024-01-19</td>\n",
              "      <td>2024</td>\n",
              "      <td>1</td>\n",
              "      <td>19</td>\n",
              "      <td>5</td>\n",
              "      <td>2</td>\n",
              "    </tr>\n",
              "  </tbody>\n",
              "</table>\n",
              "</div>"
            ],
            "text/plain": [
              "   Transaction_ID         User_Name  Age  Country Product_Category  \\\n",
              "0           33554    Isabella Lewis   24    Japan             Toys   \n",
              "1            9428  Elijah Rodriguez   52  Germany      Electronics   \n",
              "2             200          Ava Hall   62       UK             Toys   \n",
              "3           12448         Ava Allen   63   Brazil          Grocery   \n",
              "4           39490        Emma Lewis   52      USA   Home & Kitchen   \n",
              "\n",
              "   Purchase_Amount    Payment_Method Transaction_Date  Year  Month  Day  \\\n",
              "0           579.51  Cash on Delivery       2024-01-16  2024      1   16   \n",
              "1            78.18            PayPal       2023-04-19  2023      4   19   \n",
              "2           713.08        Debit Card       2024-03-05  2024      3    5   \n",
              "3           474.14       Credit Card       2024-12-01  2024     12    1   \n",
              "4           266.15        Debit Card       2024-01-19  2024      1   19   \n",
              "\n",
              "   Product_Category_Code  Segment  \n",
              "0                      7        1  \n",
              "1                      3        2  \n",
              "2                      7        0  \n",
              "3                      4        2  \n",
              "4                      5        2  "
            ]
          },
          "execution_count": 5,
          "metadata": {},
          "output_type": "execute_result"
        }
      ],
      "source": [
        "fraud_df = pd.read_csv('../online_store/data/balanced_data/ecommerce_transactions_cleaned.csv')\n",
        "fraud_df.head()"
      ]
    },
    {
      "cell_type": "markdown",
      "metadata": {
        "id": "uFQo3ycuO-v6"
      },
      "source": [
        "# Stage 2"
      ]
    },
    {
      "cell_type": "markdown",
      "metadata": {},
      "source": [
        "#### Balancing the Dataset"
      ]
    },
    {
      "cell_type": "code",
      "execution_count": 6,
      "metadata": {},
      "outputs": [
        {
          "name": "stdout",
          "output_type": "stream",
          "text": [
            "Segment\n",
            "3    2612\n",
            "1    2498\n",
            "2    2469\n",
            "0    2421\n",
            "Name: count, dtype: int64\n",
            "Segment\n",
            "0    2612\n",
            "1    2612\n",
            "3    2612\n",
            "2    2612\n",
            "Name: count, dtype: int64\n"
          ]
        }
      ],
      "source": [
        "from sklearn.utils import resample\n",
        "\n",
        "# Check class distribution before balancing\n",
        "print(fraud_df['Segment'].value_counts())\n",
        "\n",
        "# Perform random oversampling to balance the classes\n",
        "\n",
        "# Separate majority and minority classes\n",
        "majority_class = fraud_df['Segment'].value_counts().idxmax()\n",
        "dfs = []\n",
        "max_count = fraud_df['Segment'].value_counts().max()\n",
        "\n",
        "for segment in fraud_df['Segment'].unique():\n",
        "    df_segment = fraud_df[fraud_df['Segment'] == segment]\n",
        "    if len(df_segment) < max_count:\n",
        "        df_segment_balanced = resample(df_segment, \n",
        "                                       replace=True, \n",
        "                                       n_samples=max_count, \n",
        "                                       random_state=42)\n",
        "    else:\n",
        "        df_segment_balanced = df_segment\n",
        "    dfs.append(df_segment_balanced)\n",
        "\n",
        "balanced_fraud_df = pd.concat(dfs).sample(frac=1, random_state=42).reset_index(drop=True)\n",
        "\n",
        "# Check class distribution after balancing\n",
        "print(balanced_fraud_df['Segment'].value_counts())"
      ]
    },
    {
      "cell_type": "markdown",
      "metadata": {},
      "source": [
        "# Stage 3"
      ]
    },
    {
      "cell_type": "markdown",
      "metadata": {},
      "source": [
        "Detecting Fraud "
      ]
    },
    {
      "cell_type": "code",
      "execution_count": 7,
      "metadata": {},
      "outputs": [
        {
          "name": "stdout",
          "output_type": "stream",
          "text": [
            "Unique values in 'Segment': [0 1 3 2]\n",
            "is_fraud\n",
            "0    7836\n",
            "1    2612\n",
            "Name: count, dtype: int64\n"
          ]
        }
      ],
      "source": [
        "# The 'Segment' column in balanced_fraud_df appears to be the label for fraud detection.\n",
        "# Let's check the unique values in 'Segment' to understand the classes.\n",
        "print(\"Unique values in 'Segment':\", balanced_fraud_df['Segment'].unique())\n",
        "\n",
        "# For fraud detection, typically one value (e.g., 1) represents fraud and another (e.g., 0) represents non-fraud.\n",
        "# Let's assume 'Segment' == 1 indicates fraud for demonstration.\n",
        "# You can adjust the label mapping as needed based on your dataset documentation.\n",
        "\n",
        "# Example: Create a binary 'is_fraud' column (1 if fraud, 0 otherwise)\n",
        "balanced_fraud_df['is_fraud'] = (balanced_fraud_df['Segment'] == 1).astype(int)\n",
        "\n",
        "# Show the distribution of the new label\n",
        "print(balanced_fraud_df['is_fraud'].value_counts())"
      ]
    },
    {
      "cell_type": "code",
      "execution_count": 8,
      "metadata": {},
      "outputs": [
        {
          "data": {
            "text/html": [
              "<div>\n",
              "<style scoped>\n",
              "    .dataframe tbody tr th:only-of-type {\n",
              "        vertical-align: middle;\n",
              "    }\n",
              "\n",
              "    .dataframe tbody tr th {\n",
              "        vertical-align: top;\n",
              "    }\n",
              "\n",
              "    .dataframe thead th {\n",
              "        text-align: right;\n",
              "    }\n",
              "</style>\n",
              "<table border=\"1\" class=\"dataframe\">\n",
              "  <thead>\n",
              "    <tr style=\"text-align: right;\">\n",
              "      <th></th>\n",
              "      <th>Transaction_ID</th>\n",
              "      <th>User_Name</th>\n",
              "      <th>Age</th>\n",
              "      <th>Country</th>\n",
              "      <th>Product_Category</th>\n",
              "      <th>Purchase_Amount</th>\n",
              "      <th>Payment_Method</th>\n",
              "      <th>Transaction_Date</th>\n",
              "      <th>Year</th>\n",
              "      <th>Month</th>\n",
              "      <th>Day</th>\n",
              "      <th>Product_Category_Code</th>\n",
              "      <th>Segment</th>\n",
              "      <th>is_fraud</th>\n",
              "    </tr>\n",
              "  </thead>\n",
              "  <tbody>\n",
              "    <tr>\n",
              "      <th>1</th>\n",
              "      <td>11716</td>\n",
              "      <td>Elijah Anderson</td>\n",
              "      <td>40</td>\n",
              "      <td>Canada</td>\n",
              "      <td>Toys</td>\n",
              "      <td>210.10</td>\n",
              "      <td>Cash on Delivery</td>\n",
              "      <td>2023-10-29</td>\n",
              "      <td>2023</td>\n",
              "      <td>10</td>\n",
              "      <td>29</td>\n",
              "      <td>7</td>\n",
              "      <td>1</td>\n",
              "      <td>1</td>\n",
              "    </tr>\n",
              "    <tr>\n",
              "      <th>4</th>\n",
              "      <td>3456</td>\n",
              "      <td>Liam Walker</td>\n",
              "      <td>22</td>\n",
              "      <td>UK</td>\n",
              "      <td>Toys</td>\n",
              "      <td>588.44</td>\n",
              "      <td>UPI</td>\n",
              "      <td>2024-08-18</td>\n",
              "      <td>2024</td>\n",
              "      <td>8</td>\n",
              "      <td>18</td>\n",
              "      <td>7</td>\n",
              "      <td>1</td>\n",
              "      <td>1</td>\n",
              "    </tr>\n",
              "    <tr>\n",
              "      <th>6</th>\n",
              "      <td>42297</td>\n",
              "      <td>Elijah Hall</td>\n",
              "      <td>26</td>\n",
              "      <td>Australia</td>\n",
              "      <td>Home &amp; Kitchen</td>\n",
              "      <td>963.53</td>\n",
              "      <td>Credit Card</td>\n",
              "      <td>2024-05-14</td>\n",
              "      <td>2024</td>\n",
              "      <td>5</td>\n",
              "      <td>14</td>\n",
              "      <td>5</td>\n",
              "      <td>1</td>\n",
              "      <td>1</td>\n",
              "    </tr>\n",
              "    <tr>\n",
              "      <th>11</th>\n",
              "      <td>10870</td>\n",
              "      <td>Noah Allen</td>\n",
              "      <td>41</td>\n",
              "      <td>USA</td>\n",
              "      <td>Grocery</td>\n",
              "      <td>541.44</td>\n",
              "      <td>Net Banking</td>\n",
              "      <td>2024-04-18</td>\n",
              "      <td>2024</td>\n",
              "      <td>4</td>\n",
              "      <td>18</td>\n",
              "      <td>4</td>\n",
              "      <td>1</td>\n",
              "      <td>1</td>\n",
              "    </tr>\n",
              "    <tr>\n",
              "      <th>12</th>\n",
              "      <td>30308</td>\n",
              "      <td>Ava White</td>\n",
              "      <td>28</td>\n",
              "      <td>Mexico</td>\n",
              "      <td>Grocery</td>\n",
              "      <td>315.93</td>\n",
              "      <td>Credit Card</td>\n",
              "      <td>2024-10-22</td>\n",
              "      <td>2024</td>\n",
              "      <td>10</td>\n",
              "      <td>22</td>\n",
              "      <td>4</td>\n",
              "      <td>1</td>\n",
              "      <td>1</td>\n",
              "    </tr>\n",
              "  </tbody>\n",
              "</table>\n",
              "</div>"
            ],
            "text/plain": [
              "    Transaction_ID        User_Name  Age    Country Product_Category  \\\n",
              "1            11716  Elijah Anderson   40     Canada             Toys   \n",
              "4             3456      Liam Walker   22         UK             Toys   \n",
              "6            42297      Elijah Hall   26  Australia   Home & Kitchen   \n",
              "11           10870       Noah Allen   41        USA          Grocery   \n",
              "12           30308        Ava White   28     Mexico          Grocery   \n",
              "\n",
              "    Purchase_Amount    Payment_Method Transaction_Date  Year  Month  Day  \\\n",
              "1            210.10  Cash on Delivery       2023-10-29  2023     10   29   \n",
              "4            588.44               UPI       2024-08-18  2024      8   18   \n",
              "6            963.53       Credit Card       2024-05-14  2024      5   14   \n",
              "11           541.44       Net Banking       2024-04-18  2024      4   18   \n",
              "12           315.93       Credit Card       2024-10-22  2024     10   22   \n",
              "\n",
              "    Product_Category_Code  Segment  is_fraud  \n",
              "1                       7        1         1  \n",
              "4                       7        1         1  \n",
              "6                       5        1         1  \n",
              "11                      4        1         1  \n",
              "12                      4        1         1  "
            ]
          },
          "execution_count": 8,
          "metadata": {},
          "output_type": "execute_result"
        }
      ],
      "source": [
        "# Display all transactions identified as fraudulent\n",
        "fraud_transactions = balanced_fraud_df[balanced_fraud_df['is_fraud'] == 1]\n",
        "fraud_transactions.head()"
      ]
    },
    {
      "cell_type": "code",
      "execution_count": 9,
      "metadata": {},
      "outputs": [
        {
          "data": {
            "image/png": "[encoded data removed]",
            "text/plain": [
              "<Figure size 600x400 with 1 Axes>"
            ]
          },
          "metadata": {},
          "output_type": "display_data"
        }
      ],
      "source": [
        "import matplotlib.pyplot as plt\n",
        "\n",
        "# Plot the distribution of fraudulent vs non-fraudulent transactions\n",
        "plt.figure(figsize=(6,4))\n",
        "balanced_fraud_df['is_fraud'].value_counts().plot(kind='bar', color=['skyblue', 'salmon'])\n",
        "plt.title('Distribution of Fraudulent vs Non-Fraudulent Transactions')\n",
        "plt.xlabel('Is Fraud')\n",
        "plt.ylabel('Number of Transactions')\n",
        "plt.xticks(ticks=[0,1], labels=['Non-Fraud', 'Fraud'], rotation=0)\n",
        "plt.show()"
      ]
    },
    {
      "cell_type": "markdown",
      "metadata": {},
      "source": [
        "# Stage 4"
      ]
    },
    {
      "cell_type": "markdown",
      "metadata": {},
      "source": [
        "#### Fraud Visualisations"
      ]
    },
    {
      "cell_type": "code",
      "execution_count": 10,
      "metadata": {},
      "outputs": [
        {
          "data": {
            "image/png": "[encoded data removed]",
            "text/plain": [
              "<Figure size 1000x600 with 1 Axes>"
            ]
          },
          "metadata": {},
          "output_type": "display_data"
        }
      ],
      "source": [
        "# Visualize fraudulent transactions by country\n",
        "plt.figure(figsize=(10,6))\n",
        "fraud_transactions['Country'].value_counts().plot(kind='bar', color='salmon')\n",
        "plt.title('Number of Fraudulent Transactions by Country')\n",
        "plt.xlabel('Country')\n",
        "plt.ylabel('Number of Fraudulent Transactions')\n",
        "plt.xticks(rotation=45)\n",
        "plt.tight_layout()\n",
        "plt.show()"
      ]
    },
    {
      "cell_type": "code",
      "execution_count": 11,
      "metadata": {},
      "outputs": [
        {
          "data": {
            "image/png": "[encoded data removed]",
            "text/plain": [
              "<Figure size 1200x600 with 1 Axes>"
            ]
          },
          "metadata": {},
          "output_type": "display_data"
        }
      ],
      "source": [
        "# Visualize the number of fraudulent transactions by customer name (top 20)\n",
        "plt.figure(figsize=(12,6))\n",
        "fraud_transactions['User_Name'].value_counts().head(20).plot(kind='bar', color='salmon')\n",
        "plt.title('Top 20 Customers by Number of Fraudulent Transactions')\n",
        "plt.xlabel('Customer Name')\n",
        "plt.ylabel('Number of Fraudulent Transactions')\n",
        "plt.xticks(rotation=45)\n",
        "plt.tight_layout()\n",
        "plt.show()"
      ]
    },
    {
      "cell_type": "code",
      "execution_count": 17,
      "metadata": {
        "vscode": {
          "languageId": "javascript"
        }
      },
      "outputs": [
        {
          "data": {
            "application/vnd.plotly.v1+json": {
              "config": {
                "plotlyServerURL": "https://plot.ly"
              },
              "data": [
                {
                  "alignmentgroup": "True",
                  "hovertemplate": "Country=%{x}<br>Number of Fraudulent Transactions=%{y}<extra></extra>",
                  "legendgroup": "",
                  "marker": {
                    "color": "#636efa",
                    "pattern": {
                      "shape": ""
                    }
                  },
                  "name": "",
                  "offsetgroup": "",
                  "orientation": "v",
                  "showlegend": false,
                  "textposition": "auto",
                  "type": "bar",
                  "x": [
                    "Canada",
                    "Germany",
                    "Japan",
                    "Brazil",
                    "UK",
                    "India",
                    "USA",
                    "Mexico",
                    "Australia",
                    "France"
                  ],
                  "xaxis": "x",
                  "y": [
                    307,
                    282,
                    279,
                    266,
                    261,
                    261,
                    248,
                    248,
                    230,
                    230
                  ],
                  "yaxis": "y"
                }
              ],
              "layout": {
                "barmode": "relative",
                "legend": {
                  "tracegroupgap": 0
                },
                "template": {
                  "data": {
                    "bar": [
                      {
                        "error_x": {
                          "color": "#2a3f5f"
                        },
                        "error_y": {
                          "color": "#2a3f5f"
                        },
                        "marker": {
                          "line": {
                            "color": "#E5ECF6",
                            "width": 0.5
                          },
                          "pattern": {
                            "fillmode": "overlay",
                            "size": 10,
                            "solidity": 0.2
                          }
                        },
                        "type": "bar"
                      }
                    ],
                    "barpolar": [
                      {
                        "marker": {
                          "line": {
                            "color": "#E5ECF6",
                            "width": 0.5
                          },
                          "pattern": {
                            "fillmode": "overlay",
                            "size": 10,
                            "solidity": 0.2
                          }
                        },
                        "type": "barpolar"
                      }
                    ],
                    "carpet": [
                      {
                        "aaxis": {
                          "endlinecolor": "#2a3f5f",
                          "gridcolor": "white",
                          "linecolor": "white",
                          "minorgridcolor": "white",
                          "startlinecolor": "#2a3f5f"
                        },
                        "baxis": {
                          "endlinecolor": "#2a3f5f",
                          "gridcolor": "white",
                          "linecolor": "white",
                          "minorgridcolor": "white",
                          "startlinecolor": "#2a3f5f"
                        },
                        "type": "carpet"
                      }
                    ],
                    "choropleth": [
                      {
                        "colorbar": {
                          "outlinewidth": 0,
                          "ticks": ""
                        },
                        "type": "choropleth"
                      }
                    ],
                    "contour": [
                      {
                        "colorbar": {
                          "outlinewidth": 0,
                          "ticks": ""
                        },
                        "colorscale": [
                          [
                            0,
                            "#0d0887"
                          ],
                          [
                            0.1111111111111111,
                            "#46039f"
                          ],
                          [
                            0.2222222222222222,
                            "#7201a8"
                          ],
                          [
                            0.3333333333333333,
                            "#9c179e"
                          ],
                          [
                            0.4444444444444444,
                            "#bd3786"
                          ],
                          [
                            0.5555555555555556,
                            "#d8576b"
                          ],
                          [
                            0.6666666666666666,
                            "#ed7953"
                          ],
                          [
                            0.7777777777777778,
                            "#fb9f3a"
                          ],
                          [
                            0.8888888888888888,
                            "#fdca26"
                          ],
                          [
                            1,
                            "#f0f921"
                          ]
                        ],
                        "type": "contour"
                      }
                    ],
                    "contourcarpet": [
                      {
                        "colorbar": {
                          "outlinewidth": 0,
                          "ticks": ""
                        },
                        "type": "contourcarpet"
                      }
                    ],
                    "heatmap": [
                      {
                        "colorbar": {
                          "outlinewidth": 0,
                          "ticks": ""
                        },
                        "colorscale": [
                          [
                            0,
                            "#0d0887"
                          ],
                          [
                            0.1111111111111111,
                            "#46039f"
                          ],
                          [
                            0.2222222222222222,
                            "#7201a8"
                          ],
                          [
                            0.3333333333333333,
                            "#9c179e"
                          ],
                          [
                            0.4444444444444444,
                            "#bd3786"
                          ],
                          [
                            0.5555555555555556,
                            "#d8576b"
                          ],
                          [
                            0.6666666666666666,
                            "#ed7953"
                          ],
                          [
                            0.7777777777777778,
                            "#fb9f3a"
                          ],
                          [
                            0.8888888888888888,
                            "#fdca26"
                          ],
                          [
                            1,
                            "#f0f921"
                          ]
                        ],
                        "type": "heatmap"
                      }
                    ],
                    "heatmapgl": [
                      {
                        "colorbar": {
                          "outlinewidth": 0,
                          "ticks": ""
                        },
                        "colorscale": [
                          [
                            0,
                            "#0d0887"
                          ],
                          [
                            0.1111111111111111,
                            "#46039f"
                          ],
                          [
                            0.2222222222222222,
                            "#7201a8"
                          ],
                          [
                            0.3333333333333333,
                            "#9c179e"
                          ],
                          [
                            0.4444444444444444,
                            "#bd3786"
                          ],
                          [
                            0.5555555555555556,
                            "#d8576b"
                          ],
                          [
                            0.6666666666666666,
                            "#ed7953"
                          ],
                          [
                            0.7777777777777778,
                            "#fb9f3a"
                          ],
                          [
                            0.8888888888888888,
                            "#fdca26"
                          ],
                          [
                            1,
                            "#f0f921"
                          ]
                        ],
                        "type": "heatmapgl"
                      }
                    ],
                    "histogram": [
                      {
                        "marker": {
                          "pattern": {
                            "fillmode": "overlay",
                            "size": 10,
                            "solidity": 0.2
                          }
                        },
                        "type": "histogram"
                      }
                    ],
                    "histogram2d": [
                      {
                        "colorbar": {
                          "outlinewidth": 0,
                          "ticks": ""
                        },
                        "colorscale": [
                          [
                            0,
                            "#0d0887"
                          ],
                          [
                            0.1111111111111111,
                            "#46039f"
                          ],
                          [
                            0.2222222222222222,
                            "#7201a8"
                          ],
                          [
                            0.3333333333333333,
                            "#9c179e"
                          ],
                          [
                            0.4444444444444444,
                            "#bd3786"
                          ],
                          [
                            0.5555555555555556,
                            "#d8576b"
                          ],
                          [
                            0.6666666666666666,
                            "#ed7953"
                          ],
                          [
                            0.7777777777777778,
                            "#fb9f3a"
                          ],
                          [
                            0.8888888888888888,
                            "#fdca26"
                          ],
                          [
                            1,
                            "#f0f921"
                          ]
                        ],
                        "type": "histogram2d"
                      }
                    ],
                    "histogram2dcontour": [
                      {
                        "colorbar": {
                          "outlinewidth": 0,
                          "ticks": ""
                        },
                        "colorscale": [
                          [
                            0,
                            "#0d0887"
                          ],
                          [
                            0.1111111111111111,
                            "#46039f"
                          ],
                          [
                            0.2222222222222222,
                            "#7201a8"
                          ],
                          [
                            0.3333333333333333,
                            "#9c179e"
                          ],
                          [
                            0.4444444444444444,
                            "#bd3786"
                          ],
                          [
                            0.5555555555555556,
                            "#d8576b"
                          ],
                          [
                            0.6666666666666666,
                            "#ed7953"
                          ],
                          [
                            0.7777777777777778,
                            "#fb9f3a"
                          ],
                          [
                            0.8888888888888888,
                            "#fdca26"
                          ],
                          [
                            1,
                            "#f0f921"
                          ]
                        ],
                        "type": "histogram2dcontour"
                      }
                    ],
                    "mesh3d": [
                      {
                        "colorbar": {
                          "outlinewidth": 0,
                          "ticks": ""
                        },
                        "type": "mesh3d"
                      }
                    ],
                    "parcoords": [
                      {
                        "line": {
                          "colorbar": {
                            "outlinewidth": 0,
                            "ticks": ""
                          }
                        },
                        "type": "parcoords"
                      }
                    ],
                    "pie": [
                      {
                        "automargin": true,
                        "type": "pie"
                      }
                    ],
                    "scatter": [
                      {
                        "fillpattern": {
                          "fillmode": "overlay",
                          "size": 10,
                          "solidity": 0.2
                        },
                        "type": "scatter"
                      }
                    ],
                    "scatter3d": [
                      {
                        "line": {
                          "colorbar": {
                            "outlinewidth": 0,
                            "ticks": ""
                          }
                        },
                        "marker": {
                          "colorbar": {
                            "outlinewidth": 0,
                            "ticks": ""
                          }
                        },
                        "type": "scatter3d"
                      }
                    ],
                    "scattercarpet": [
                      {
                        "marker": {
                          "colorbar": {
                            "outlinewidth": 0,
                            "ticks": ""
                          }
                        },
                        "type": "scattercarpet"
                      }
                    ],
                    "scattergeo": [
                      {
                        "marker": {
                          "colorbar": {
                            "outlinewidth": 0,
                            "ticks": ""
                          }
                        },
                        "type": "scattergeo"
                      }
                    ],
                    "scattergl": [
                      {
                        "marker": {
                          "colorbar": {
                            "outlinewidth": 0,
                            "ticks": ""
                          }
                        },
                        "type": "scattergl"
                      }
                    ],
                    "scattermapbox": [
                      {
                        "marker": {
                          "colorbar": {
                            "outlinewidth": 0,
                            "ticks": ""
                          }
                        },
                        "type": "scattermapbox"
                      }
                    ],
                    "scatterpolar": [
                      {
                        "marker": {
                          "colorbar": {
                            "outlinewidth": 0,
                            "ticks": ""
                          }
                        },
                        "type": "scatterpolar"
                      }
                    ],
                    "scatterpolargl": [
                      {
                        "marker": {
                          "colorbar": {
                            "outlinewidth": 0,
                            "ticks": ""
                          }
                        },
                        "type": "scatterpolargl"
                      }
                    ],
                    "scatterternary": [
                      {
                        "marker": {
                          "colorbar": {
                            "outlinewidth": 0,
                            "ticks": ""
                          }
                        },
                        "type": "scatterternary"
                      }
                    ],
                    "surface": [
                      {
                        "colorbar": {
                          "outlinewidth": 0,
                          "ticks": ""
                        },
                        "colorscale": [
                          [
                            0,
                            "#0d0887"
                          ],
                          [
                            0.1111111111111111,
                            "#46039f"
                          ],
                          [
                            0.2222222222222222,
                            "#7201a8"
                          ],
                          [
                            0.3333333333333333,
                            "#9c179e"
                          ],
                          [
                            0.4444444444444444,
                            "#bd3786"
                          ],
                          [
                            0.5555555555555556,
                            "#d8576b"
                          ],
                          [
                            0.6666666666666666,
                            "#ed7953"
                          ],
                          [
                            0.7777777777777778,
                            "#fb9f3a"
                          ],
                          [
                            0.8888888888888888,
                            "#fdca26"
                          ],
                          [
                            1,
                            "#f0f921"
                          ]
                        ],
                        "type": "surface"
                      }
                    ],
                    "table": [
                      {
                        "cells": {
                          "fill": {
                            "color": "#EBF0F8"
                          },
                          "line": {
                            "color": "white"
                          }
                        },
                        "header": {
                          "fill": {
                            "color": "#C8D4E3"
                          },
                          "line": {
                            "color": "white"
                          }
                        },
                        "type": "table"
                      }
                    ]
                  },
                  "layout": {
                    "annotationdefaults": {
                      "arrowcolor": "#2a3f5f",
                      "arrowhead": 0,
                      "arrowwidth": 1
                    },
                    "autotypenumbers": "strict",
                    "coloraxis": {
                      "colorbar": {
                        "outlinewidth": 0,
                        "ticks": ""
                      }
                    },
                    "colorscale": {
                      "diverging": [
                        [
                          0,
                          "#8e0152"
                        ],
                        [
                          0.1,
                          "#c51b7d"
                        ],
                        [
                          0.2,
                          "#de77ae"
                        ],
                        [
                          0.3,
                          "#f1b6da"
                        ],
                        [
                          0.4,
                          "#fde0ef"
                        ],
                        [
                          0.5,
                          "#f7f7f7"
                        ],
                        [
                          0.6,
                          "#e6f5d0"
                        ],
                        [
                          0.7,
                          "#b8e186"
                        ],
                        [
                          0.8,
                          "#7fbc41"
                        ],
                        [
                          0.9,
                          "#4d9221"
                        ],
                        [
                          1,
                          "#276419"
                        ]
                      ],
                      "sequential": [
                        [
                          0,
                          "#0d0887"
                        ],
                        [
                          0.1111111111111111,
                          "#46039f"
                        ],
                        [
                          0.2222222222222222,
                          "#7201a8"
                        ],
                        [
                          0.3333333333333333,
                          "#9c179e"
                        ],
                        [
                          0.4444444444444444,
                          "#bd3786"
                        ],
                        [
                          0.5555555555555556,
                          "#d8576b"
                        ],
                        [
                          0.6666666666666666,
                          "#ed7953"
                        ],
                        [
                          0.7777777777777778,
                          "#fb9f3a"
                        ],
                        [
                          0.8888888888888888,
                          "#fdca26"
                        ],
                        [
                          1,
                          "#f0f921"
                        ]
                      ],
                      "sequentialminus": [
                        [
                          0,
                          "#0d0887"
                        ],
                        [
                          0.1111111111111111,
                          "#46039f"
                        ],
                        [
                          0.2222222222222222,
                          "#7201a8"
                        ],
                        [
                          0.3333333333333333,
                          "#9c179e"
                        ],
                        [
                          0.4444444444444444,
                          "#bd3786"
                        ],
                        [
                          0.5555555555555556,
                          "#d8576b"
                        ],
                        [
                          0.6666666666666666,
                          "#ed7953"
                        ],
                        [
                          0.7777777777777778,
                          "#fb9f3a"
                        ],
                        [
                          0.8888888888888888,
                          "#fdca26"
                        ],
                        [
                          1,
                          "#f0f921"
                        ]
                      ]
                    },
                    "colorway": [
                      "#636efa",
                      "#EF553B",
                      "#00cc96",
                      "#ab63fa",
                      "#FFA15A",
                      "#19d3f3",
                      "#FF6692",
                      "#B6E880",
                      "#FF97FF",
                      "#FECB52"
                    ],
                    "font": {
                      "color": "#2a3f5f"
                    },
                    "geo": {
                      "bgcolor": "white",
                      "lakecolor": "white",
                      "landcolor": "#E5ECF6",
                      "showlakes": true,
                      "showland": true,
                      "subunitcolor": "white"
                    },
                    "hoverlabel": {
                      "align": "left"
                    },
                    "hovermode": "closest",
                    "mapbox": {
                      "style": "light"
                    },
                    "paper_bgcolor": "white",
                    "plot_bgcolor": "#E5ECF6",
                    "polar": {
                      "angularaxis": {
                        "gridcolor": "white",
                        "linecolor": "white",
                        "ticks": ""
                      },
                      "bgcolor": "#E5ECF6",
                      "radialaxis": {
                        "gridcolor": "white",
                        "linecolor": "white",
                        "ticks": ""
                      }
                    },
                    "scene": {
                      "xaxis": {
                        "backgroundcolor": "#E5ECF6",
                        "gridcolor": "white",
                        "gridwidth": 2,
                        "linecolor": "white",
                        "showbackground": true,
                        "ticks": "",
                        "zerolinecolor": "white"
                      },
                      "yaxis": {
                        "backgroundcolor": "#E5ECF6",
                        "gridcolor": "white",
                        "gridwidth": 2,
                        "linecolor": "white",
                        "showbackground": true,
                        "ticks": "",
                        "zerolinecolor": "white"
                      },
                      "zaxis": {
                        "backgroundcolor": "#E5ECF6",
                        "gridcolor": "white",
                        "gridwidth": 2,
                        "linecolor": "white",
                        "showbackground": true,
                        "ticks": "",
                        "zerolinecolor": "white"
                      }
                    },
                    "shapedefaults": {
                      "line": {
                        "color": "#2a3f5f"
                      }
                    },
                    "ternary": {
                      "aaxis": {
                        "gridcolor": "white",
                        "linecolor": "white",
                        "ticks": ""
                      },
                      "baxis": {
                        "gridcolor": "white",
                        "linecolor": "white",
                        "ticks": ""
                      },
                      "bgcolor": "#E5ECF6",
                      "caxis": {
                        "gridcolor": "white",
                        "linecolor": "white",
                        "ticks": ""
                      }
                    },
                    "title": {
                      "x": 0.05
                    },
                    "xaxis": {
                      "automargin": true,
                      "gridcolor": "white",
                      "linecolor": "white",
                      "ticks": "",
                      "title": {
                        "standoff": 15
                      },
                      "zerolinecolor": "white",
                      "zerolinewidth": 2
                    },
                    "yaxis": {
                      "automargin": true,
                      "gridcolor": "white",
                      "linecolor": "white",
                      "ticks": "",
                      "title": {
                        "standoff": 15
                      },
                      "zerolinecolor": "white",
                      "zerolinewidth": 2
                    }
                  }
                },
                "title": {
                  "text": "Number of Fraudulent Transactions by Country (Plotly)"
                },
                "xaxis": {
                  "anchor": "y",
                  "domain": [
                    0,
                    1
                  ],
                  "title": {
                    "text": "Country"
                  }
                },
                "yaxis": {
                  "anchor": "x",
                  "domain": [
                    0,
                    1
                  ],
                  "title": {
                    "text": "Number of Fraudulent Transactions"
                  }
                }
              }
            }
          },
          "metadata": {},
          "output_type": "display_data"
        }
      ],
      "source": [
        "fig = px.bar(\n",
        "    fraud_transactions['Country'].value_counts().reset_index(),\n",
        "    x='Country',\n",
        "    y='count',\n",
        "    labels={'Country': 'Country', 'count': 'Number of Fraudulent Transactions'},\n",
        "    title='Number of Fraudulent Transactions by Country (Plotly)'\n",
        ")\n",
        "fig.show()"
      ]
    },
    {
      "cell_type": "code",
      "execution_count": 12,
      "metadata": {
        "vscode": {
          "languageId": "markdown"
        }
      },
      "outputs": [
        {
          "name": "stdout",
          "output_type": "stream",
          "text": [
            "\n",
            "### Summary of Generated Information\n",
            "\n",
            "- **Working Directory:** The notebook changes the working directory to its parent folder for easier file access.\n",
            "- **Data Loading:** The cleaned e-commerce transactions dataset is loaded into a DataFrame named `fraud_df`.\n",
            "- **Balancing:** The dataset is balanced by oversampling each class in the 'Segment' column to match the majority class size. The balanced data is stored in `balanced_fraud_df`.\n",
            "- **Fraud Labeling:** A new column `is_fraud` is created in `balanced_fraud_df`, where transactions with `Segment == 1` are labeled as fraudulent.\n",
            "- **Fraud Analysis:** Fraudulent transactions are filtered into `fraud_transactions`.\n",
            "- **Visualizations:** The notebook includes visualizations for:\n",
            "    - Distribution of fraudulent vs. non-fraudulent transactions.\n",
            "    - Number of fraudulent transactions by country.\n",
            "    - Top 20 customers by number of fraudulent transactions.\n",
            "- **Variables:** Key variables include:\n",
            "    - `fraud_df`: Original dataset.\n",
            "    - `balanced_fraud_df`: Balanced dataset with fraud labels.\n",
            "    - `fraud_transactions`: DataFrame of only fraudulent transactions.\n",
            "    - `df_segment`, `df_segment_balanced`, `dfs`: Used for balancing by segment.\n",
            "    - `majority_class`, `max_count`, `segment`: Helper variables for balancing.\n",
            "\n"
          ]
        }
      ],
      "source": [
        "summary = \"\"\"\n",
        "### Summary of Generated Information\n",
        "\n",
        "- **Working Directory:** The notebook changes the working directory to its parent folder for easier file access.\n",
        "- **Data Loading:** The cleaned e-commerce transactions dataset is loaded into a DataFrame named `fraud_df`.\n",
        "- **Balancing:** The dataset is balanced by oversampling each class in the 'Segment' column to match the majority class size. The balanced data is stored in `balanced_fraud_df`.\n",
        "- **Fraud Labeling:** A new column `is_fraud` is created in `balanced_fraud_df`, where transactions with `Segment == 1` are labeled as fraudulent.\n",
        "- **Fraud Analysis:** Fraudulent transactions are filtered into `fraud_transactions`.\n",
        "- **Visualizations:** The notebook includes visualizations for:\n",
        "    - Distribution of fraudulent vs. non-fraudulent transactions.\n",
        "    - Number of fraudulent transactions by country.\n",
        "    - Top 20 customers by number of fraudulent transactions.\n",
        "- **Variables:** Key variables include:\n",
        "    - `fraud_df`: Original dataset.\n",
        "    - `balanced_fraud_df`: Balanced dataset with fraud labels.\n",
        "    - `fraud_transactions`: DataFrame of only fraudulent transactions.\n",
        "    - `df_segment`, `df_segment_balanced`, `dfs`: Used for balancing by segment.\n",
        "    - `majority_class`, `max_count`, `segment`: Helper variables for balancing.\n",
        "\"\"\"\n",
        "\n",
        "print(summary)"
      ]
    },
    {
      "cell_type": "markdown",
      "metadata": {},
      "source": [
        "### Explanation of the Visualisations\n",
        "\n",
        "- **Distribution of Fraudulent vs Non-Fraudulent Transactions:**  \n",
        "    This bar chart shows the count of transactions labeled as fraudulent (`is_fraud = 1`) versus non-fraudulent (`is_fraud = 0`). It helps to quickly assess the balance between the two classes after oversampling.\n",
        "\n",
        "- **Fraudulent Transactions by Country:**  \n",
        "    This bar chart displays the number of fraudulent transactions for each country. It highlights which countries have higher reported fraud cases, providing insights into geographic trends in fraudulent activity.\n",
        "\n",
        "- **Top 20 Customers by Number of Fraudulent Transactions:**  \n",
        "    This bar chart lists the top 20 customers (by name) with the most fraudulent transactions. It helps identify individuals who are most frequently associated with fraud, which can be useful for targeted investigation or further analysis."
      ]
    },
    {
      "cell_type": "markdown",
      "metadata": {},
      "source": [
        "#### AI Solutions, Analysis & Solving Domain Specific Problems "
      ]
    },
    {
      "cell_type": "markdown",
      "metadata": {},
      "source": [
        "#### AI has been used here to balance the dataset so that the outcomes are unbiased and therefore it is ethical. It has played its part in analysing the data and identifying a trend concerning fraud and customers who might be carrying this out. This will help the business to save money of which can be used to keep the buiness afloat during lean periods and prevent any losses being passed on to other customers and maintain a good trading relationship with suppliers also. Therefore AI is an important tool to use to help a business solve this issue it experiences in the online retail domain."
      ]
    },
    {
      "cell_type": "markdown",
      "metadata": {},
      "source": [
        "### Conclusion"
      ]
    },
    {
      "cell_type": "markdown",
      "metadata": {},
      "source": [
        "#### The above shows that I have used Copilot to detect from from the dataset, and obtained insights regarding the country,individuals,and produced visualisations. There is an ethical issue here as customers names have been identified and this would breach GDPR regualtions. However in practice the customers details would be anonymized and polices would be made available regarding how data is stored, how it is used and when it will be deleted. When creating a customer account the customer would have to give their constent."
      ]
    }
  ],
  "metadata": {
    "accelerator": "GPU",
    "colab": {
      "name": "Data Practitioner Jupyter Notebook.ipynb",
      "provenance": [],
      "toc_visible": true
    },
    "kernelspec": {
      "display_name": "Python 3",
      "language": "python",
      "name": "python3"
    },
    "language_info": {
      "codemirror_mode": {
        "name": "ipython",
        "version": 3
      },
      "file_extension": ".py",
      "mimetype": "text/x-python",
      "name": "python",
      "nbconvert_exporter": "python",
      "pygments_lexer": "ipython3",
      "version": "3.12.8"
    },
    "orig_nbformat": 2
  },
  "nbformat": 4,
  "nbformat_minor": 2
}
